{
 "cells": [
  {
   "cell_type": "markdown",
   "metadata": {},
   "source": [
    "# init"
   ]
  },
  {
   "cell_type": "code",
   "execution_count": 1,
   "metadata": {},
   "outputs": [],
   "source": [
    "import autogen"
   ]
  },
  {
   "cell_type": "markdown",
   "metadata": {},
   "source": [
    "# common"
   ]
  },
  {
   "cell_type": "code",
   "execution_count": 2,
   "metadata": {},
   "outputs": [],
   "source": [
    "config_list = [\n",
    "    {\n",
    "        \"model\": \"mixtral 8x instruct 01 7B Q5_K_M\",\n",
    "        \"base_url\": \"http://host.docker.internal:1234/v1\",\n",
    "        \"api_type\": \"openai\",\n",
    "        \"api_key\": \"not-needed\",\n",
    "    }\n",
    "]\n",
    "working_dir = \"../.data\""
   ]
  },
  {
   "cell_type": "markdown",
   "metadata": {},
   "source": [
    "# examples"
   ]
  },
  {
   "cell_type": "markdown",
   "metadata": {},
   "source": [
    "## github research"
   ]
  },
  {
   "cell_type": "markdown",
   "metadata": {},
   "source": [
    "### create agents"
   ]
  },
  {
   "cell_type": "code",
   "execution_count": null,
   "metadata": {},
   "outputs": [],
   "source": [
    "assistant = autogen.AssistantAgent(\n",
    "    name=\"assistant\",\n",
    "    llm_config={\n",
    "        \"config_list\": config_list,\n",
    "        \"cache_seed\": None,\n",
    "        \"temperature\": 0.3,\n",
    "        \"timeout\": 300,\n",
    "    },\n",
    "    system_message=\"\"\"You are a helpful AI assistant.\n",
    "    Solve tasks using your coding and language skills.\n",
    "    In the following cases, suggest python code (in a python coding block) or shell script (in a sh coding block) for the user to execute.\n",
    "        1. When you need to collect info, use the code to output the info you need, for example, browse or search the web, download/read a file, print the content of a webpage or a file, get the current date/time, check the operating system. After sufficient info is printed and the task is ready to be solved based on your language skill, you can solve the task by yourself.\n",
    "        2. When you need to perform some task with code, use the code to perform the task and output the result. Finish the task smartly.\n",
    "    Solve the task step by step if you need to. If a plan is not provided, explain your plan first. Be clear which step uses code, and which step uses your language skill.\n",
    "    When using code, you must indicate the script type in the code block. The user cannot provide any other feedback or perform any other action beyond executing the code you suggest. The user can't modify your code. So do not suggest incomplete code which requires users to modify. Don't use a code block if it's not intended to be executed by the user.\n",
    "    If you want the user to save the code in a file before executing it, put # filename: <filename> inside the code block as the first line. Don't include multiple code blocks in one response. Do not ask users to copy and paste the result. Instead, use 'print' function for the output when relevant. Check the execution result returned by the user.\n",
    "    If the result indicates there is an error, fix the error and output the code again. Suggest the full code instead of partial code or code changes. If the error can't be fixed or if the task is not solved even after the code is executed successfully, analyze the problem, revisit your assumption, collect additional info you need, and think of a different approach to try.\n",
    "    When you find an answer, verify the answer carefully. Include verifiable evidence in your response if possible.\n",
    "    \"\"\",\n",
    ")\n",
    "\n",
    "user_proxy = autogen.UserProxyAgent(\n",
    "    name=\"user_proxy\",\n",
    "    human_input_mode=\"NEVER\",\n",
    "    max_consecutive_auto_reply=10,\n",
    "    is_termination_msg=lambda x: x.get(\"content\", \"\").rstrip().endswith(\"TERMINATE\"),\n",
    "    code_execution_config={\"work_dir\": working_dir},\n",
    "    llm_config={\n",
    "        \"config_list\": config_list,\n",
    "        \"temperature\": 0.9,\n",
    "        \"timeout\": 300,\n",
    "        \"cache_seed\": None,\n",
    "    },\n",
    "    system_message=\"\"\"Reply TERMINATE if the task has been solved at full satisfaction.  Otherwise, reply CONTINUE, or the reason why the task is not yet solved.\"\"\",\n",
    ")\n"
   ]
  },
  {
   "cell_type": "markdown",
   "metadata": {},
   "source": [
    "### start chat"
   ]
  },
  {
   "cell_type": "code",
   "execution_count": null,
   "metadata": {},
   "outputs": [],
   "source": [
    "github_user = \"dschartman\"\n",
    "\n",
    "task = f\"\"\"\n",
    "    Use the github api to craft a basic summary of the github user {github_user}.  Format the summary in markdown and write to a local file called \"{github_user}_summary.md\"\n",
    "\"\"\"\n",
    "\n",
    "user_proxy.initiate_chat(assistant, message=task)"
   ]
  },
  {
   "cell_type": "code",
   "execution_count": null,
   "metadata": {},
   "outputs": [],
   "source": [
    "import markdown\n",
    "\n",
    "# Define the path to your Markdown file\n",
    "markdown_file_path = f\"{working_dir}/{github_user}_summary.md\"\n",
    "\n",
    "# Read the Markdown file\n",
    "with open(markdown_file_path, 'r', encoding='utf-8') as file:\n",
    "    markdown_content = file.read()\n",
    "\n",
    "# Convert Markdown to HTML\n",
    "html_content = markdown.markdown(markdown_content)\n",
    "\n",
    "# Print the HTML content\n",
    "print(html_content)"
   ]
  },
  {
   "cell_type": "markdown",
   "metadata": {},
   "source": []
  },
  {
   "cell_type": "markdown",
   "metadata": {},
   "source": [
    "## engineering team"
   ]
  },
  {
   "cell_type": "markdown",
   "metadata": {},
   "source": [
    "### create agents"
   ]
  },
  {
   "cell_type": "code",
   "execution_count": null,
   "metadata": {},
   "outputs": [],
   "source": [
    "planner = autogen.AssistantAgent(\n",
    "    name=\"planner\",\n",
    "    llm_config={\"config_list\": config_list},\n",
    "    system_message=\"You are a helpful AI assistant. You suggest coding and reasoning steps for another AI assistant to accomplish a task. Do not suggest concrete code. For any action beyond writing code or reasoning, convert it to a step that can be implemented by writing code. For example, browsing the web can be implemented by writing code that reads and prints the content of a web page. Finally, inspect the execution result. If the plan is not good, suggest a better plan. If the execution is wrong, analyze the error and suggest a fix.\",\n",
    ")\n",
    "planner_user = autogen.UserProxyAgent(\n",
    "    name=\"planner_user\",\n",
    "    max_consecutive_auto_reply=0,  # terminate without auto-reply\n",
    "    human_input_mode=\"NEVER\",\n",
    "    code_execution_config={\n",
    "        \"use_docker\": False\n",
    "    },\n",
    ")\n",
    "\n",
    "def ask_planner(message):\n",
    "    planner_user.initiate_chat(planner, message=message)\n",
    "    # return the last message received from the planner\n",
    "    return planner_user.last_message()[\"content\"]"
   ]
  },
  {
   "cell_type": "code",
   "execution_count": null,
   "metadata": {},
   "outputs": [],
   "source": [
    "assistant = autogen.AssistantAgent(\n",
    "    name=\"assistant\",\n",
    "    llm_config={\n",
    "        \"temperature\": 0,\n",
    "        \"timeout\": 600,\n",
    "        \"cache_seed\": 42,\n",
    "        \"config_list\": config_list,\n",
    "        \"functions\": [\n",
    "            {\n",
    "                \"name\": \"ask_planner\",\n",
    "                \"description\": \"ask planner to: 1. get a plan for finishing a task, 2. verify the execution result of the plan and potentially suggest new plan.\",\n",
    "                \"parameters\": {\n",
    "                    \"type\": \"object\",\n",
    "                    \"properties\": {\n",
    "                        \"message\": {\n",
    "                            \"type\": \"string\",\n",
    "                            \"description\": \"question to ask planner. Make sure the question include enough context, such as the code and the execution result. The planner does not know the conversation between you and the user, unless you share the conversation with the planner.\",\n",
    "                        },\n",
    "                    },\n",
    "                    \"required\": [\"message\"],\n",
    "                },\n",
    "            },\n",
    "        ],\n",
    "    },\n",
    ")\n",
    "\n",
    "user_proxy = autogen.UserProxyAgent(\n",
    "    name=\"user_proxy\",\n",
    "    human_input_mode=\"TERMINATE\",\n",
    "    max_consecutive_auto_reply=10,\n",
    "    # is_termination_msg=lambda x: \"content\" in x and x[\"content\"] is not None and x[\"content\"].rstrip().endswith(\"TERMINATE\"),\n",
    "    code_execution_config={\n",
    "        \"work_dir\": \"planning\",\n",
    "        \"use_docker\": False,\n",
    "    },\n",
    "    function_map={\"ask_planner\": ask_planner},\n",
    ")"
   ]
  },
  {
   "cell_type": "markdown",
   "metadata": {},
   "source": [
    "### start chat"
   ]
  },
  {
   "cell_type": "code",
   "execution_count": null,
   "metadata": {},
   "outputs": [],
   "source": [
    "user_proxy.initiate_chat(\n",
    "    assistant,\n",
    "    message=\"\"\"Suggest a fix to an open good first issue of AutoGen.  AutoGen is a on github here: https://github.com/microsoft/autogen\"\"\",\n",
    ")"
   ]
  },
  {
   "cell_type": "code",
   "execution_count": null,
   "metadata": {},
   "outputs": [],
   "source": []
  },
  {
   "cell_type": "markdown",
   "metadata": {},
   "source": [
    "## poker game"
   ]
  },
  {
   "cell_type": "markdown",
   "metadata": {},
   "source": [
    "### create a player"
   ]
  },
  {
   "cell_type": "markdown",
   "metadata": {},
   "source": [
    "I want to create a poker player that uses a group of agents to decide what to do.  "
   ]
  },
  {
   "cell_type": "code",
   "execution_count": 22,
   "metadata": {},
   "outputs": [],
   "source": [
    "class PokerPlayer:\n",
    "    def __init__(self, name, config_list):\n",
    "        if not name or not isinstance(config_list, list):\n",
    "            raise ValueError(\"Name must be a string and config_list must be a list.\")\n",
    "        self.name = name\n",
    "        self.setup_agents(config_list)\n",
    "        self.setup_group_chat(config_list)\n",
    "\n",
    "    def setup_agents(self, config_list):\n",
    "        self.user_proxy = autogen.UserProxyAgent(\n",
    "            name=self.name,\n",
    "            system_message=\"Your strategy should balance logic with emotion. After considering the game state, format your decision as follows: {'action': '<ACTION>', 'amount': <AMOUNT>, 'chat': '<MESSAGE>'}.\",\n",
    "            llm_config={\"config_list\": config_list},\n",
    "        )\n",
    "        self.logic = autogen.AssistantAgent(\n",
    "            name=\"logic\",\n",
    "            system_message=\"Analyze the current hand and suggest a logical action. Consider the odds and other players' potential hands.\",\n",
    "            llm_config={\"config_list\": config_list},\n",
    "        )\n",
    "        self.emotion = autogen.AssistantAgent(\n",
    "            name=\"emotion\",\n",
    "            system_message=\"Reflect on the game's emotional aspect. How does the current state affect your decision? Share your feelings.\",\n",
    "            llm_config={\"config_list\": config_list},\n",
    "        )\n",
    "\n",
    "    def setup_group_chat(self, config_list):\n",
    "        self.groupchat = autogen.GroupChat(\n",
    "            agents=[self.user_proxy, self.logic, self.emotion],\n",
    "            messages=[],\n",
    "            max_round=12\n",
    "        )\n",
    "        self.manager = autogen.GroupChatManager(\n",
    "            groupchat=self.groupchat,\n",
    "            llm_config={\"config_list\": config_list},\n",
    "        )\n",
    "\n",
    "    def decide_move(self, context):\n",
    "        initial_message = f\"{self.name}, it's your turn. Here's the game state: {context}. How will you play your hand?\"\n",
    "        self.user_proxy.initiate_chat(self.manager, message=initial_message)\n",
    "\n",
    "    # Implement the method to process and integrate decisions from logic and emotion agents\n",
    "    def process_decision(self):\n",
    "        # Placeholder for decision processing logic\n",
    "        pass\n"
   ]
  },
  {
   "cell_type": "markdown",
   "metadata": {},
   "source": [
    "### run a hand"
   ]
  },
  {
   "cell_type": "code",
   "execution_count": 23,
   "metadata": {},
   "outputs": [],
   "source": [
    "player = PokerPlayer(\"Karl\", config_list)"
   ]
  },
  {
   "cell_type": "code",
   "execution_count": 24,
   "metadata": {},
   "outputs": [
    {
     "name": "stdout",
     "output_type": "stream",
     "text": [
      "\u001b[33mKarl\u001b[0m (to chat_manager):\n",
      "\n",
      "Karl, it's your turn. Here's the game state: {\"players\": [{\"name\": \"David\", \"seat\": 0}, {\"name\": \"Susie\", \"seat\": 1}, {\"name\": \"Karl\", \"seat\": 2}, {\"name\": \"Stevie\", \"seat\": 3}], \"dealer_position\": 1, \"small_blind_amount\": 50, \"big_blind_amount\": 100, \"blind_level\": 1, \"next_blind_increase\": \"2024-02-29T13:00:00\", \"community_cards\": [\"10C\", \"JH\", \"QC\", \"\", \"\"], \"side_pots\": [], \"current_action_to\": 2, \"hole_cards\": [\"AS\", \"KD\"], \"action_history\": [{\"player_seat\": 2, \"action\": \"post_small_blind\", \"amount\": 50, \"stack\": 850, \"pot\": 50}, {\"player_seat\": 3, \"action\": \"post_big_blind\", \"amount\": 100, \"stack\": 800, \"pot\": 150}, {\"player_seat\": 0, \"action\": \"raise\", \"amount\": 200, \"stack\": 700, \"pot\": 350}, {\"player_seat\": 1, \"action\": \"fold\", \"amount\": 0, \"stack\": 900, \"pot\": 350}, {\"player_seat\": 2, \"action\": \"call\", \"amount\": 150, \"stack\": 700, \"pot\": 500}, {\"player_seat\": 3, \"action\": \"fold\", \"amount\": 150, \"stack\": 800, \"pot\": 500}], \"hand_state\": \"flop\", \"chat_messages\": [{\"player_seat\": 3, \"message\": \"Nice hand!\", \"timestamp\": \"2024-02-29T12:34:56\"}, {\"player_seat\": 1, \"message\": \"Thanks!\", \"timestamp\": \"2024-02-29T12:35:10\"}]}. How will you play your hand?\n",
      "\n",
      "--------------------------------------------------------------------------------\n"
     ]
    },
    {
     "name": "stderr",
     "output_type": "stream",
     "text": [
      "GroupChat select_speaker failed to resolve the next speaker's name. This is because the speaker selection OAI call returned:\n",
      "\n",
      "### Conversation:\n",
      "Karl: I see I have an Ace and a King. The flop is 10C, JH, QC. I'm in the small blind position and have already contributed 50 to the pot. David raised it by 200 after Stevie folded, Susie then folded, and I called. Now it's my turn again with two players left: David and myself. My stack is at 700 now, while David has 700 as well. What should be my next move?\n",
      "logic: Given your hand strength and the current pot size, you might consider raising or re-raising to build the pot further and extract value from David. Keep in mind that he raised initially, suggesting a stronger hand, but with two cards still hidden and only two players left, it's worth trying to take control of the betting round.\n",
      "emotion: I agree with logic; this is an exciting opportunity! After all, we have top pair and a decent kicker here, so let's try to make the most of it. However, we also need to be cautious about overvaluing our hand and not getting too committed if there are signs of danger ahead.\n",
      "Karl: Thanks for your input, emotion and logic! I agree that it would be a good idea to build the pot since I have top pair with a decent kicker. The question is how much should I raise? Considering David's aggressive behavior earlier, perhaps I could try re-raising him by 400. This move would give me more control over the betting and potentially force any weaker hands out of the game. What do you think about this plan?\n",
      "logic: Re-raising by 400 seems reasonable given David's previous actions and your hand strength. Keep in mind that if he re-raises back, you may want to reconsider your position as it could indicate a stronger hand for him. Always stay vigilant and analyze the situation accordingly.\n",
      "emotion: I understand the risks involved, but I still feel optimistic about our chances here. Let's go ahead with the plan and hope for the best outcome!\n",
      "Karl: Alright then, let me execute this move and see how David responds!\n",
      "```\n",
      "\n",
      "'logic'\n"
     ]
    },
    {
     "name": "stdout",
     "output_type": "stream",
     "text": [
      "\u001b[33mlogic\u001b[0m (to chat_manager):\n",
      "\n",
      "Based on the given game state, I'm Karl and my hole cards are A♠K♦. There has been a raise from David (seat 0) to 200 over the big blind of 100, and I called the additional 100 to put me in for 250 total (50 small blind + 150 call). The flop came out J♥Q♣10♣.\n",
      "\n",
      "At this point, with top pair and a decent kicker, I'm likely ahead of David's range but still want to exercise caution given the potential for strong draws on the board. With two players in the hand, there is a side pot of 450 (200 from David + 100 big blind + 150 call).\n",
      "\n",
      "Considering that I have top pair and an above-average kicker, my options are:\n",
      "\n",
      "1. Check and evaluate future betting rounds based on board texture and opponent actions. This could allow me to keep the pot smaller while still trying to extract value from potentially weaker hands.\n",
      "2. Make a continuation bet (c-bet) here, which can help take down the pot immediately or build it further if called. The size of my c-bet could range between 1/3 to 2/3 of the current pot, depending on the board texture and desired fold equity.\n",
      "\n",
      "Given that there are straight and flush draws available on this flop, I would prefer to take a more conservative approach and check. This allows me to maintain control over the betting on future rounds without potentially bloating the pot if called by a stronger hand or drawing hand with potential for improvement. If David checks behind, I can re-evaluate my strategy based on the turn card and adjust accordingly.\n",
      "\n",
      "My suggested action is to **check**.\n",
      "\n",
      "--------------------------------------------------------------------------------\n"
     ]
    },
    {
     "name": "stderr",
     "output_type": "stream",
     "text": [
      "GroupChat select_speaker failed to resolve the next speaker's name. This is because the speaker selection OAI call returned:\n",
      " What do you think?\n",
      "\n"
     ]
    },
    {
     "name": "stdout",
     "output_type": "stream",
     "text": [
      "\u001b[33memotion\u001b[0m (to chat_manager):\n",
      "\n",
      "As Karl, I check given the board texture and presence of straight and flush draws. This allows me to maintain control over future betting rounds while minimizing potential loss in case of a stronger hand or draw.\n",
      "\n",
      "--------------------------------------------------------------------------------\n"
     ]
    },
    {
     "name": "stderr",
     "output_type": "stream",
     "text": [
      "GroupChat select_speaker failed to resolve the next speaker's name. This is because the speaker selection OAI call returned:\n",
      "\n"
     ]
    },
    {
     "name": "stdout",
     "output_type": "stream",
     "text": [
      "\u001b[31m\n",
      ">>>>>>>> NO HUMAN INPUT RECEIVED.\u001b[0m\n",
      "\u001b[31m\n",
      ">>>>>>>> USING AUTO REPLY...\u001b[0m\n",
      "\u001b[33mKarl\u001b[0m (to chat_manager):\n",
      "\n",
      "{'action': 'check', 'amount': 0, 'chat': ''}\n",
      "\n",
      "--------------------------------------------------------------------------------\n"
     ]
    },
    {
     "name": "stderr",
     "output_type": "stream",
     "text": [
      "GroupChat select_speaker failed to resolve the next speaker's name. This is because the speaker selection OAI call returned:\n",
      "\n"
     ]
    },
    {
     "name": "stdout",
     "output_type": "stream",
     "text": [
      "\u001b[33mlogic\u001b[0m (to chat_manager):\n",
      "\n",
      "As Karl, I check the flop with my top pair and decent kicker (A♠K♦) given the board texture and potential for strong draws (J♥Q♣10♣). This action allows me to maintain control over future betting rounds while minimizing potential loss in case of a stronger hand or draw.\n",
      "\n",
      "Here is the updated game state:\n",
      "{\"players\": [{\"name\": \"David\", \"seat\": 0}, {\"name\": \"Susie\", \"seat\": 1}, {\"name\": \"Karl\", \"seat\": 2}, {\"name\": \"Stevie\", \"seat\": 3}], \"dealer_position\": 1, \"small_blind_amount\": 50, \"big_blind_amount\": 100, \"blind_level\": 1, \"next_blind_increase\": \"2024-02-29T13:00:00\", \"community_cards\": [\"10C\", \"JH\", \"QC\", \"\", \"\"], \"side_pots\": [{\"pot_amount\": 450, \"players_in_pot\": [{\"player_seat\": 0, \"stack\": 700}, {\"player_seat\": 2, \"stack\": 700}]}], \"current_action_to\": 0, \"hole_cards\": [\"AS\", \"KD\"], \"action_history\": [{\"player_seat\": 2, \"action\": \"post_small_blind\", \"amount\": 50, \"stack\": 850, \"pot\": 50}, {\"player_seat\": 3, \"action\": \"post_big_blind\", \"amount\": 100, \"stack\": 800, \"pot\": 150}, {\"player_seat\": 0, \"action\": \"raise\", \"amount\": 200, \"stack\": 700, \"pot\": 350}, {\"player_seat\": 1, \"action\": \"fold\", \"amount\": 0, \"stack\": 900, \"pot\": 350}, {\"player_seat\": 2, \"action\": \"call\", \"amount\": 150, \"stack\": 700, \"pot\": 500}, {\"player_seat\": 3, \"action\": \"fold\", \"amount\": 150, \"stack\": 800, \"pot\": 500}], \"hand_state\": \"flop\", \"chat_messages\": [{\"player_seat\": 3, \"message\": \"Nice hand!\", \"timestamp\": \"2024-02-29T12:34:56\"}, {\"player_seat\": 1, \"message\": \"Thanks!\", \"timestamp\": \"2024-02-29T12:35:10\"}]}.\n",
      "\n",
      "My suggested action is to **check**.\n",
      "\n",
      "--------------------------------------------------------------------------------\n"
     ]
    },
    {
     "name": "stderr",
     "output_type": "stream",
     "text": [
      "GroupChat select_speaker failed to resolve the next speaker's name. This is because the speaker selection OAI call returned:\n",
      "\n"
     ]
    },
    {
     "name": "stdout",
     "output_type": "stream",
     "text": [
      "\u001b[33memotion\u001b[0m (to chat_manager):\n",
      "\n",
      "As Karl, I check given the board texture and presence of strong draws (J♥Q♣10♣). This action allows me to maintain control over future betting rounds while minimizing potential loss in case of a stronger hand or draw.\n",
      "\n",
      "--------------------------------------------------------------------------------\n"
     ]
    },
    {
     "name": "stderr",
     "output_type": "stream",
     "text": [
      "GroupChat select_speaker failed to resolve the next speaker's name. This is because the speaker selection OAI call returned:\n",
      "\n"
     ]
    }
   ],
   "source": [
    "import json\n",
    "\n",
    "game_state = {\n",
    "    'players': [\n",
    "        {'name': 'David', 'seat': 0},\n",
    "        {'name': 'Susie', 'seat': 1},\n",
    "        {'name': 'Karl', 'seat': 2},\n",
    "        {'name': 'Stevie', 'seat': 3},\n",
    "    ],\n",
    "    'dealer_position': 1,\n",
    "    'small_blind_amount': 50,\n",
    "    'big_blind_amount': 100,\n",
    "    'blind_level': 1,\n",
    "    'next_blind_increase': '2024-02-29T13:00:00',\n",
    "    'community_cards': ['10C', 'JH', 'QC', '', ''],\n",
    "    'side_pots': [], \n",
    "    'current_action_to': 2,\n",
    "    'hole_cards': ['AS', 'KD'],\n",
    "    'action_history': [\n",
    "        {'player_seat': 2, 'action': 'post_small_blind', 'amount': 50, 'stack': 850, 'pot': 50},\n",
    "        {'player_seat': 3, 'action': 'post_big_blind', 'amount': 100, 'stack': 800, 'pot': 150},\n",
    "        {'player_seat': 0, 'action': 'raise', 'amount': 200, 'stack': 700, 'pot': 350},\n",
    "        {'player_seat': 1, 'action': 'fold', 'amount': 0, 'stack': 900, 'pot': 350},\n",
    "        {'player_seat': 2, 'action': 'call', 'amount': 150, 'stack': 700, 'pot': 500},\n",
    "        {'player_seat': 3, 'action': 'fold', 'amount': 150, 'stack': 800, 'pot': 500},\n",
    "    ],\n",
    "    'hand_state': 'flop',\n",
    "    'chat_messages': [\n",
    "        {'player_seat': 3, 'message': 'Nice hand!', 'timestamp': '2024-02-29T12:34:56'},\n",
    "        {'player_seat': 1, 'message': 'Thanks!', 'timestamp': '2024-02-29T12:35:10'},\n",
    "    ],\n",
    "}\n",
    "\n",
    "player.decide_move(context=json.dumps(game_state))"
   ]
  },
  {
   "cell_type": "code",
   "execution_count": null,
   "metadata": {},
   "outputs": [],
   "source": []
  }
 ],
 "metadata": {
  "kernelspec": {
   "display_name": ".venv",
   "language": "python",
   "name": "python3"
  },
  "language_info": {
   "codemirror_mode": {
    "name": "ipython",
    "version": 3
   },
   "file_extension": ".py",
   "mimetype": "text/x-python",
   "name": "python",
   "nbconvert_exporter": "python",
   "pygments_lexer": "ipython3",
   "version": "3.11.8"
  }
 },
 "nbformat": 4,
 "nbformat_minor": 2
}
